{
 "cells": [
  {
   "cell_type": "code",
   "execution_count": 2,
   "metadata": {},
   "outputs": [],
   "source": [
    "import os \n",
    "import sys"
   ]
  },
  {
   "cell_type": "code",
   "execution_count": 3,
   "metadata": {},
   "outputs": [
    {
     "data": {
      "text/plain": [
       "'d:\\\\iNeuron\\\\Complete Project\\\\Boston-Regression\\\\Boston_Housing-Regression\\\\notebook'"
      ]
     },
     "execution_count": 3,
     "metadata": {},
     "output_type": "execute_result"
    }
   ],
   "source": [
    "os.getcwd()"
   ]
  },
  {
   "cell_type": "code",
   "execution_count": 4,
   "metadata": {},
   "outputs": [],
   "source": [
    "os.chdir('..')"
   ]
  },
  {
   "cell_type": "code",
   "execution_count": 5,
   "metadata": {},
   "outputs": [
    {
     "data": {
      "text/plain": [
       "'d:\\\\iNeuron\\\\Complete Project\\\\Boston-Regression\\\\Boston_Housing-Regression'"
      ]
     },
     "execution_count": 5,
     "metadata": {},
     "output_type": "execute_result"
    }
   ],
   "source": [
    "os.getcwd()"
   ]
  },
  {
   "cell_type": "code",
   "execution_count": 14,
   "metadata": {},
   "outputs": [],
   "source": [
    "from dataclasses import dataclass\n",
    "from pathlib import Path\n",
    "\n",
    "@dataclass(frozen=True)\n",
    "class ModelTrainerConfig:\n",
    "    trained_model_path: Path"
   ]
  },
  {
   "cell_type": "code",
   "execution_count": 15,
   "metadata": {},
   "outputs": [],
   "source": [
    "from src.utils import create_directories, read_yaml\n",
    "from src.constants import CONFIG_FILE_PATH, PARAMS_FILE_PATH\n",
    "from src.logger import logging\n",
    "from src.exception import CustomException\n",
    "\n",
    "class ConfigurationManager:\n",
    "    def __init__(self,\n",
    "                 config_file_path=CONFIG_FILE_PATH,\n",
    "                 params_file_path = PARAMS_FILE_PATH):\n",
    "        try:\n",
    "            self.config = read_yaml(config_file_path)\n",
    "            self.params = read_yaml(params_file_path)\n",
    "            create_directories([self.config.artifacts_root])\n",
    "        except Exception as e:\n",
    "            raise e\n",
    "        \n",
    "    def get_model_trainer_config(self):\n",
    "        try:\n",
    "            config=self.config.model_trainer\n",
    "\n",
    "            trained_model_path = config.trained_model_path\n",
    "\n",
    "            model_trainer_config=ModelTrainerConfig(\n",
    "                trained_model_path=trained_model_path\n",
    "            )\n",
    "\n",
    "            return model_trainer_config\n",
    "        except Exception as e:\n",
    "            logging.info(e)\n",
    "            raise CustomException(e,sys)"
   ]
  },
  {
   "cell_type": "code",
   "execution_count": 18,
   "metadata": {},
   "outputs": [],
   "source": [
    "from src.logger import logging\n",
    "from src.exception import CustomException\n",
    "from src.utils import eval_metrics, save_obj\n",
    "\n",
    "import pandas as pd\n",
    "from pathlib import Path\n",
    "\n",
    "\n",
    "from sklearn.model_selection import train_test_split\n",
    "from sklearn.linear_model import LinearRegression\n",
    "\n",
    "class ModelTrainer:\n",
    "    def __init__(self, config=ModelTrainerConfig):\n",
    "        self.config=config\n",
    "\n",
    "    def train_model(self):\n",
    "        try:\n",
    "            logging.info('Model Trainer Initiated')\n",
    "\n",
    "            scaled_train_df = pd.read_csv(Path('artifact/data_transformation/scaled_train.csv'))\n",
    "            scaled_test_df=pd.read_csv(Path('artifact/data_transformation/scaled_test.csv'))\n",
    "\n",
    "            logging.info('Initiating Train test split')\n",
    "            X_train = scaled_train_df.drop('MEDV', axis=1)\n",
    "            y_train = scaled_train_df['MEDV']\n",
    "            X_test = scaled_test_df.drop('MEDV', axis=1)\n",
    "            y_test = scaled_test_df['MEDV']\n",
    "\n",
    "            model = LinearRegression()\n",
    "            model.fit(X_train, y_train) \n",
    "            logging.info('Model has been trained')\n",
    "\n",
    "            trained_model_path = self.config.trained_model_path\n",
    "            os.makedirs(os.path.dirname(trained_model_path), exist_ok=True)\n",
    "            save_obj(trained_model_path,model)\n",
    "\n",
    "            prediction = model.predict(X_test)\n",
    "\n",
    "            mae, rmse, r2 = eval_metrics(y_test, prediction)\n",
    "\n",
    "            logging.info(f\"Linear Regression MAE: [{mae}], RMSE: [{rmse}], R2 Score: [{r2}]\")\n",
    "            return mae, rmse, r2\n",
    "        except Exception as e:\n",
    "            raise CustomException(e,sys)"
   ]
  },
  {
   "cell_type": "code",
   "execution_count": 19,
   "metadata": {},
   "outputs": [],
   "source": [
    "if __name__=='__main__':\n",
    "    config=ConfigurationManager()\n",
    "    model_trainer_config=config.get_model_trainer_config()\n",
    "    model_trainer=ModelTrainer(config=model_trainer_config)\n",
    "    model_trainer.train_model()"
   ]
  },
  {
   "cell_type": "code",
   "execution_count": null,
   "metadata": {},
   "outputs": [],
   "source": []
  }
 ],
 "metadata": {
  "kernelspec": {
   "display_name": "Python 3",
   "language": "python",
   "name": "python3"
  },
  "language_info": {
   "codemirror_mode": {
    "name": "ipython",
    "version": 3
   },
   "file_extension": ".py",
   "mimetype": "text/x-python",
   "name": "python",
   "nbconvert_exporter": "python",
   "pygments_lexer": "ipython3",
   "version": "3.8.16"
  },
  "orig_nbformat": 4
 },
 "nbformat": 4,
 "nbformat_minor": 2
}
