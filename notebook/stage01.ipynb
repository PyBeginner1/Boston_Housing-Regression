{
 "cells": [
  {
   "cell_type": "code",
   "execution_count": 10,
   "metadata": {},
   "outputs": [],
   "source": [
    "from dataclasses import dataclass\n",
    "from pathlib import Path\n",
    "\n",
    "@dataclass(frozen=True)\n",
    "class DataIngestionConfig:\n",
    "    root_dir: Path\n",
    "    raw_data_path: Path\n",
    "    train_data_path: Path\n",
    "    test_data_path: Path"
   ]
  },
  {
   "cell_type": "code",
   "execution_count": 11,
   "metadata": {},
   "outputs": [],
   "source": [
    "import os"
   ]
  },
  {
   "cell_type": "code",
   "execution_count": 12,
   "metadata": {},
   "outputs": [
    {
     "data": {
      "text/plain": [
       "'d:\\\\iNeuron\\\\Complete Project\\\\Boston\\\\Boston-Housing\\\\research'"
      ]
     },
     "execution_count": 12,
     "metadata": {},
     "output_type": "execute_result"
    }
   ],
   "source": [
    "os.getcwd()"
   ]
  },
  {
   "cell_type": "code",
   "execution_count": 13,
   "metadata": {},
   "outputs": [],
   "source": [
    "os.chdir('d:\\\\iNeuron\\\\Complete Project\\\\Boston\\\\Boston-Housing')"
   ]
  },
  {
   "cell_type": "code",
   "execution_count": 14,
   "metadata": {},
   "outputs": [
    {
     "data": {
      "text/plain": [
       "'d:\\\\iNeuron\\\\Complete Project\\\\Boston\\\\Boston-Housing'"
      ]
     },
     "execution_count": 14,
     "metadata": {},
     "output_type": "execute_result"
    }
   ],
   "source": [
    "os.getcwd()"
   ]
  },
  {
   "cell_type": "code",
   "execution_count": 15,
   "metadata": {},
   "outputs": [],
   "source": [
    "from src.Boston.constants import CONFIG_FILE_PATH, PARMS_FILE_PATH\n",
    "from src.Boston.utils.common import read_yaml, create_directories"
   ]
  },
  {
   "cell_type": "code",
   "execution_count": 16,
   "metadata": {},
   "outputs": [],
   "source": [
    "from src.Boston.logger import logging\n",
    "\n",
    "class ConfigurationManager:\n",
    "    def __init__(self,\n",
    "                 config_file_path=CONFIG_FILE_PATH,\n",
    "                 params_file_path = PARMS_FILE_PATH):\n",
    "        try:\n",
    "            self.config = read_yaml(config_file_path)\n",
    "            self.params = read_yaml(params_file_path)\n",
    "            create_directories([self.config.artifacts_root])\n",
    "        except Exception as e:\n",
    "            raise e\n",
    "\n",
    "\n",
    "    def get_data_ingestion_config(self):\n",
    "        try:\n",
    "            logging.info('Data Ingestion config started.')\n",
    "            config = self.config.data_ingestion\n",
    "\n",
    "            root_dir = config.root_dir\n",
    "            create_directories([root_dir])\n",
    "\n",
    "            raw_data_path = config.raw_data_path\n",
    "            train_data_path= config.train_data_path\n",
    "            test_data_path= config.test_data_path\n",
    "\n",
    "            data_ingestion_config = DataIngestionConfig(\n",
    "                root_dir=root_dir,\n",
    "                raw_data_path=raw_data_path,\n",
    "                train_data_path=train_data_path,\n",
    "                test_data_path=test_data_path\n",
    "            )\n",
    "\n",
    "            logging.info(f\"Data Ingestion config: [{data_ingestion_config}]\")\n",
    "            return data_ingestion_config\n",
    "        except Exception as e:\n",
    "            raise e\n",
    "\n",
    "        "
   ]
  },
  {
   "cell_type": "code",
   "execution_count": 17,
   "metadata": {},
   "outputs": [],
   "source": [
    "import pandas as pd\n",
    "\n",
    "from src.Boston.logger import logging\n",
    "\n",
    "from sklearn.datasets import fetch_openml\n",
    "from sklearn.model_selection import train_test_split\n",
    "\n",
    "class DataIngestion:\n",
    "    def __init__(self, config: DataIngestionConfig):\n",
    "        self.config = config\n",
    "\n",
    "    \n",
    "    def initiate_data_ingestion(self):\n",
    "        logging.info('Data Ingestion started')\n",
    "        try:\n",
    "            create_directories([self.config.root_dir])\n",
    "\n",
    "            df = fetch_openml(name='boston')\n",
    "            X, y = df.data, df.target\n",
    "            \n",
    "            new_df= pd.concat([X,y], axis=1)\n",
    "            new_df.to_csv(self.config.raw_data_path, index=False, header=True)\n",
    "            logging.info('Raw data stored at: [{self.config.raw_data_path}]')\n",
    "\n",
    "            logging.info('Train and Test split initiated.')\n",
    "            train, test = train_test_split(new_df, test_size=0.2, random_state=1)\n",
    "\n",
    "            train.to_csv(self.config.train_data_path, index=False, header=True)\n",
    "            test.to_csv(self.config.test_data_path, index=False, header=True)\n",
    "\n",
    "            logging.info('Data Ingestion completed')\n",
    "            logging.info('\\n')\n",
    "            return self.config.train_data_path, self.config.test_data_path\n",
    "        except Exception as e:\n",
    "            raise e"
   ]
  },
  {
   "cell_type": "code",
   "execution_count": 18,
   "metadata": {},
   "outputs": [
    {
     "name": "stderr",
     "output_type": "stream",
     "text": [
      "d:\\Anaconda\\envs\\boston\\lib\\site-packages\\sklearn\\datasets\\_openml.py:301: UserWarning: Multiple active versions of the dataset matching the name boston exist. Versions may be fundamentally different, returning version 1.\n",
      "  warn(\n",
      "d:\\Anaconda\\envs\\boston\\lib\\site-packages\\sklearn\\datasets\\_openml.py:968: FutureWarning: The default value of `parser` will change from `'liac-arff'` to `'auto'` in 1.4. You can set `parser='auto'` to silence this warning. Therefore, an `ImportError` will be raised from 1.4 if the dataset is dense and pandas is not installed. Note that the pandas parser may return different data types. See the Notes Section in fetch_openml's API doc for details.\n",
      "  warn(\n"
     ]
    }
   ],
   "source": [
    "try:\n",
    "    config=ConfigurationManager()\n",
    "    data_ingestion_config=config.get_data_ingestion_config()\n",
    "    data_ingestion=DataIngestion(config=data_ingestion_config)\n",
    "    data_ingestion.initiate_data_ingestion()\n",
    "except Exception as e:\n",
    "    raise e"
   ]
  },
  {
   "cell_type": "code",
   "execution_count": 20,
   "metadata": {},
   "outputs": [
    {
     "name": "stdout",
     "output_type": "stream",
     "text": [
      "['d:\\\\iNeuron\\\\Complete Project\\\\Boston\\\\Boston-Housing\\\\research', 'd:\\\\Anaconda\\\\envs\\\\boston\\\\python38.zip', 'd:\\\\Anaconda\\\\envs\\\\boston\\\\DLLs', 'd:\\\\Anaconda\\\\envs\\\\boston\\\\lib', 'd:\\\\Anaconda\\\\envs\\\\boston', '', 'C:\\\\Users\\\\Shashvath\\\\AppData\\\\Roaming\\\\Python\\\\Python38\\\\site-packages', 'C:\\\\Users\\\\Shashvath\\\\AppData\\\\Roaming\\\\Python\\\\Python38\\\\site-packages\\\\win32', 'C:\\\\Users\\\\Shashvath\\\\AppData\\\\Roaming\\\\Python\\\\Python38\\\\site-packages\\\\win32\\\\lib', 'C:\\\\Users\\\\Shashvath\\\\AppData\\\\Roaming\\\\Python\\\\Python38\\\\site-packages\\\\Pythonwin', 'd:\\\\Anaconda\\\\envs\\\\boston\\\\lib\\\\site-packages', 'd:\\\\Anaconda\\\\envs\\\\boston\\\\lib\\\\site-packages\\\\win32', 'd:\\\\Anaconda\\\\envs\\\\boston\\\\lib\\\\site-packages\\\\win32\\\\lib', 'd:\\\\Anaconda\\\\envs\\\\boston\\\\lib\\\\site-packages\\\\Pythonwin', 'Boston-Housing\\\\src', 'D:\\\\iNeuron\\\\Complete Project\\\\Boston\\\\Boston-Housing\\\\src', WindowsPath('D:/iNeuron/Complete Project/Boston/Boston-Housing/src')]\n"
     ]
    }
   ],
   "source": [
    "import sys\n",
    "print(sys.path)"
   ]
  },
  {
   "cell_type": "code",
   "execution_count": null,
   "metadata": {},
   "outputs": [],
   "source": []
  }
 ],
 "metadata": {
  "kernelspec": {
   "display_name": "Python 3",
   "language": "python",
   "name": "python3"
  },
  "language_info": {
   "codemirror_mode": {
    "name": "ipython",
    "version": 3
   },
   "file_extension": ".py",
   "mimetype": "text/x-python",
   "name": "python",
   "nbconvert_exporter": "python",
   "pygments_lexer": "ipython3",
   "version": "3.8.16"
  },
  "orig_nbformat": 4
 },
 "nbformat": 4,
 "nbformat_minor": 2
}
