{
 "cells": [
  {
   "cell_type": "code",
   "execution_count": 29,
   "metadata": {},
   "outputs": [],
   "source": [
    "import os \n",
    "import sys"
   ]
  },
  {
   "cell_type": "code",
   "execution_count": 30,
   "metadata": {},
   "outputs": [
    {
     "data": {
      "text/plain": [
       "'d:\\\\iNeuron\\\\Complete Project\\\\Boston-Regression\\\\Boston_Housing-Regression'"
      ]
     },
     "execution_count": 30,
     "metadata": {},
     "output_type": "execute_result"
    }
   ],
   "source": [
    "os.getcwd()"
   ]
  },
  {
   "cell_type": "code",
   "execution_count": 31,
   "metadata": {},
   "outputs": [],
   "source": [
    "os.chdir('d:\\\\iNeuron\\\\Complete Project\\\\Boston-Regression\\\\Boston_Housing-Regression')"
   ]
  },
  {
   "cell_type": "code",
   "execution_count": 32,
   "metadata": {},
   "outputs": [
    {
     "data": {
      "text/plain": [
       "'d:\\\\iNeuron\\\\Complete Project\\\\Boston-Regression\\\\Boston_Housing-Regression'"
      ]
     },
     "execution_count": 32,
     "metadata": {},
     "output_type": "execute_result"
    }
   ],
   "source": [
    "os.getcwd()"
   ]
  },
  {
   "cell_type": "code",
   "execution_count": 33,
   "metadata": {},
   "outputs": [],
   "source": [
    "from dataclasses import dataclass\n",
    "from pathlib import Path\n",
    "\n",
    "@dataclass(frozen=True)\n",
    "class DataTransformationConfig:\n",
    "     preprocessed_obj_file_path: Path\n",
    "     scaled_train_path : Path\n",
    "     scaled_test_path : Path"
   ]
  },
  {
   "cell_type": "code",
   "execution_count": 34,
   "metadata": {},
   "outputs": [],
   "source": [
    "from src.utils import create_directories, read_yaml\n",
    "from src.constants import CONFIG_FILE_PATH, PARAMS_FILE_PATH\n",
    "from src.logger import logging\n",
    "\n",
    "class ConfigurationManager:\n",
    "    def __init__(self,\n",
    "                 config_file_path=CONFIG_FILE_PATH,\n",
    "                 params_file_path = PARAMS_FILE_PATH):\n",
    "        try:\n",
    "            self.config = read_yaml(config_file_path)\n",
    "            self.params = read_yaml(params_file_path)\n",
    "            create_directories([self.config.artifacts_root])\n",
    "        except Exception as e:\n",
    "            raise e\n",
    "        \n",
    "    def get_data_transformation_config(self):\n",
    "        try:\n",
    "            logging.info('Data Transformation config started.')\n",
    "            config = self.config.data_transformation\n",
    "\n",
    "            preprocessed_obj_file_path=config.preprocessed_obj_file_path\n",
    "            scaled_train = config.scaled_train_path\n",
    "            scaled_test = config.scaled_test_path\n",
    "\n",
    "            data_transforamtion_config = DataTransformationConfig(\n",
    "                preprocessed_obj_file_path=preprocessed_obj_file_path,\n",
    "                scaled_train_path=scaled_train,\n",
    "                scaled_test_path=scaled_test\n",
    "            )\n",
    "\n",
    "            return data_transforamtion_config\n",
    "        except Exception as e:\n",
    "            raise e "
   ]
  },
  {
   "cell_type": "code",
   "execution_count": 35,
   "metadata": {},
   "outputs": [],
   "source": [
    "from sklearn.preprocessing import StandardScaler\n",
    "import pandas as pd\n",
    "\n",
    "from src.utils import save_obj\n",
    "\n",
    "\n",
    "train_path = r'Boston_Housing-Regression\\artifact\\data_ingestion\\train.csv'\n",
    "test_path = r'Boston_Housing-Regression\\artifact\\data_ingestion\\test.csv'\n",
    "\n",
    "final_train_path = os.path.join(os.path.dirname(os.getcwd()), train_path)\n",
    "final_test_path = os.path.join(os.path.dirname(os.getcwd()), test_path)\n",
    "\n",
    "\n",
    "class DataTransformation:\n",
    "    def __init__(self, config: DataTransformationConfig, train_path, test_path):\n",
    "        self.config = config\n",
    "        train_path = train_path\n",
    "        test_path=test_path\n",
    "\n",
    "    def initiate_data_transformation(self):\n",
    "        logging.info('Initiating Data Transformation')\n",
    "        train_df = pd.read_csv(final_train_path)\n",
    "        test_df = pd.read_csv(final_test_path)\n",
    "\n",
    "        train_target = train_df['MEDV']\n",
    "        test_target = test_df['MEDV']\n",
    "        train_df = train_df.drop('MEDV', axis=1)\n",
    "        test_df = test_df.drop('MEDV', axis=1)\n",
    "        \n",
    "        scaler = StandardScaler()\n",
    "        scaled_train_df = pd.DataFrame(scaler.fit_transform(train_df), columns = train_df.columns)\n",
    "        scaled_test_df = pd.DataFrame(scaler.transform(test_df), columns = test_df.columns)\n",
    "\n",
    "        final_train_df=pd.concat([scaled_train_df,train_target], axis=1)\n",
    "        final_test_df=pd.concat([scaled_test_df,test_target], axis=1)\n",
    "\n",
    "        os.makedirs(os.path.dirname(self.config.preprocessed_obj_file_path), exist_ok=True)\n",
    "\n",
    "        save_obj(self.config.preprocessed_obj_file_path, scaled_test_df)\n",
    "\n",
    "        final_train_df.to_csv(self.config.scaled_train_path, index=False, header=True)\n",
    "        final_test_df.to_csv(self.config.scaled_test_path, index=False, header=True)\n",
    "        logging.info('Train and test set has been preprocessed')\n",
    "\n",
    "        logging.info('Data Transformation completed')\n",
    "        logging.info('\\n')\n",
    "        return self.config.scaled_train_path, self.config.scaled_test_path"
   ]
  },
  {
   "cell_type": "code",
   "execution_count": 36,
   "metadata": {},
   "outputs": [],
   "source": [
    "train_path = r'Boston_Housing-Regression\\artifact\\data_ingestion\\train.csv'\n",
    "test_path = r'Boston_Housing-Regression\\artifact\\data_ingestion\\test.csv'\n",
    "\n",
    "final_train_path = os.path.join(os.path.dirname(os.getcwd()), train_path)\n",
    "final_test_path = os.path.join(os.path.dirname(os.getcwd()), test_path)\n",
    "\n",
    "if __name__=='__main__':\n",
    "    config=ConfigurationManager()\n",
    "    data_transforamtion_config=config.get_data_transformation_config()\n",
    "    data_transformation = DataTransformation(config=data_transforamtion_config, train_path=final_train_path, test_path=final_test_path)\n",
    "    data_transformation.initiate_data_transformation()"
   ]
  },
  {
   "cell_type": "code",
   "execution_count": 37,
   "metadata": {},
   "outputs": [
    {
     "name": "stdout",
     "output_type": "stream",
     "text": [
      "D:\\iNeuron\\Complete Project\\Boston-Regression\\Boston_Housing-Regression\\src\n"
     ]
    }
   ],
   "source": [
    "import os\n",
    "print(os.environ.get('PYTHONPATH'))"
   ]
  },
  {
   "cell_type": "code",
   "execution_count": 38,
   "metadata": {},
   "outputs": [],
   "source": [
    "import os\n",
    "os.environ['PYTHONPATH'] = 'D:\\iNeuron\\Complete Project\\Boston-Regression\\Boston_Housing-Regression\\src'"
   ]
  },
  {
   "cell_type": "code",
   "execution_count": 39,
   "metadata": {},
   "outputs": [
    {
     "name": "stdout",
     "output_type": "stream",
     "text": [
      "D:\\iNeuron\\Complete Project\\Boston-Regression\\Boston_Housing-Regression\\src\n"
     ]
    }
   ],
   "source": [
    "import os\n",
    "print(os.environ.get('PYTHONPATH'))"
   ]
  },
  {
   "cell_type": "code",
   "execution_count": null,
   "metadata": {},
   "outputs": [],
   "source": []
  }
 ],
 "metadata": {
  "kernelspec": {
   "display_name": "boston",
   "language": "python",
   "name": "python3"
  },
  "language_info": {
   "codemirror_mode": {
    "name": "ipython",
    "version": 3
   },
   "file_extension": ".py",
   "mimetype": "text/x-python",
   "name": "python",
   "nbconvert_exporter": "python",
   "pygments_lexer": "ipython3",
   "version": "3.8.16"
  },
  "orig_nbformat": 4
 },
 "nbformat": 4,
 "nbformat_minor": 2
}
